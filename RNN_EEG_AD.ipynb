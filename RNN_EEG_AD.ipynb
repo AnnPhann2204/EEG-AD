{
  "cells": [
    {
      "cell_type": "markdown",
      "metadata": {
        "id": "view-in-github",
        "colab_type": "text"
      },
      "source": [
        "<a href=\"https://colab.research.google.com/github/AnnPhann2204/EEG-AD_DeepLearning/blob/main/RNN_EEG_AD.ipynb\" target=\"_parent\"><img src=\"https://colab.research.google.com/assets/colab-badge.svg\" alt=\"Open In Colab\"/></a>"
      ]
    },
    {
      "cell_type": "code",
      "execution_count": 1,
      "metadata": {
        "colab": {
          "base_uri": "https://localhost:8080/"
        },
        "id": "eAT6U5gRkpxp",
        "outputId": "54d68e58-49cc-4df1-fa51-a09b7e351243"
      },
      "outputs": [
        {
          "output_type": "stream",
          "name": "stdout",
          "text": [
            "Cloning into 'rnn-eeg-ad'...\n",
            "remote: Enumerating objects: 73, done.\u001b[K\n",
            "remote: Counting objects: 100% (8/8), done.\u001b[K\n",
            "remote: Compressing objects: 100% (7/7), done.\u001b[K\n",
            "remote: Total 73 (delta 1), reused 4 (delta 1), pack-reused 65 (from 1)\u001b[K\n",
            "Receiving objects: 100% (73/73), 156.36 MiB | 14.46 MiB/s, done.\n",
            "Resolving deltas: 100% (13/13), done.\n",
            "Updating files: 100% (46/46), done.\n"
          ]
        }
      ],
      "source": [
        "!git clone https://github.com/MAlessandrini-Univpm/rnn-eeg-ad.git"
      ]
    },
    {
      "cell_type": "code",
      "execution_count": 2,
      "metadata": {
        "colab": {
          "base_uri": "https://localhost:8080/"
        },
        "id": "asyzcFE3qWY1",
        "outputId": "3ab419ba-c976-4e1e-c50d-9aee08da28e7"
      },
      "outputs": [
        {
          "output_type": "stream",
          "name": "stdout",
          "text": [
            "/content/rnn-eeg-ad\n"
          ]
        }
      ],
      "source": [
        "%cd rnn-eeg-ad"
      ]
    },
    {
      "cell_type": "code",
      "execution_count": 3,
      "metadata": {
        "colab": {
          "base_uri": "https://localhost:8080/"
        },
        "id": "Spf-AOI_qaJ2",
        "outputId": "0d75d189-017b-496a-e5c8-07b6b3a43cbf"
      },
      "outputs": [
        {
          "output_type": "stream",
          "name": "stdout",
          "text": [
            "batch_cross_val.py  batch_test.py  LICENSE  mu_golden_search.py  README.md\t   rnn_eeg_ad.py\n",
            "batch_spikes.py     eeg2\t   mspca.m  parse_log.py\t requirements.txt  r_pca.py\n"
          ]
        }
      ],
      "source": [
        "!ls"
      ]
    },
    {
      "cell_type": "code",
      "source": [
        "import numpy as np\n",
        "import tensorflow as tf\n",
        "from tensorflow import keras\n",
        "from tensorflow.keras.layers import LSTM, Dense, BatchNormalization, Softmax, Dropout, Bidirectional\n",
        "import scipy.io  # to load/save MAT files\n",
        "import time\n",
        "import datetime\n",
        "from matplotlib import pyplot as plt\n",
        "from sklearn.preprocessing import StandardScaler, MinMaxScaler\n",
        "import sklearn.decomposition\n",
        "import sklearn.model_selection\n",
        "import sys\n",
        "import os\n",
        "# %matplotlib inline\n",
        "# %load_ext tensorboard\n",
        "\n",
        "tf.random.set_seed(42)\n",
        "np.random.seed(42)\n",
        "\n",
        "print('Tf Keras:', keras.__version__)\n",
        "print('TensorFlow:', tf.__version__)\n",
        "print('GPU device:', tf.test.gpu_device_name())\n",
        "\n",
        "if 'google.colab' in sys.modules:  # try to detect if we're running in colab or locally\n",
        "  # working_dir = '/content/drive/MyDrive/Colab Notebooks'\n",
        "  working_dir = '/content/rnn-eeg-ad'\n",
        "#   %cp '/content/drive/MyDrive/Colab Notebooks/r_pca.py' .\n",
        "else:\n",
        "  working_dir = '.'\n",
        "\n",
        "import r_pca\n",
        "multiscale_pca = False  # Compute MSPCA before PCA\n",
        "log_dir_base = working_dir + '/logs/fit'\n",
        "num_classes = 2"
      ],
      "metadata": {
        "colab": {
          "base_uri": "https://localhost:8080/"
        },
        "id": "SMZl0zpH1sUd",
        "outputId": "50e4a819-4d04-42d4-ccfe-3bbe0a997a94"
      },
      "execution_count": 4,
      "outputs": [
        {
          "output_type": "stream",
          "name": "stdout",
          "text": [
            "Tf Keras: 3.4.1\n",
            "TensorFlow: 2.17.0\n",
            "GPU device: \n"
          ]
        }
      ]
    },
    {
      "cell_type": "code",
      "source": [
        "\n",
        "def create_dataset(window, overlap, decimation_factor = 0):\n",
        "  # Create the input and target data from dataset,\n",
        "  # according to window and overlap\n",
        "  # new dataset 4 dec 2021\n",
        "  # 15 N, 20 AD (resulting indexes: N = 0..14, AD = 15..34)\n",
        "  #Common signals: ['EEG Fp1', 'EEG Fp2', 'EEG F7', 'EEG F3', 'EEG F4', 'EEG F8', 'EEG T3', 'EEG C3', 'EEG C4', 'EEG T4', 'EEG T5', 'EEG P3', 'EEG P4', 'EEG T6', 'EEG O1', 'EEG O2']\n",
        "\n",
        "  tf.random.set_seed(42)\n",
        "  np.random.seed(42)\n",
        "  dataset_dir = working_dir + '/eeg2'\n",
        "  subj_list = tuple((f'{i:02d}', 'N') for i in range(1, 16)) + tuple((f'{i:02d}', 'AD') for i in range(1, 21))\n",
        "  print(subj_list)\n",
        "  num_columns = 16\n",
        "\n",
        "  x_data = np.empty((0, window, num_columns))\n",
        "  y_data = np.empty((0, 1))  # labels\n",
        "  subj_inputs = []  # number of inputs for every subject\n",
        "  print('\\n### creating dataset')\n",
        "  tot_rows = 0\n",
        "  for subject in subj_list:\n",
        "    subj_inputs.append(0)\n",
        "    category = ('N', 'AD').index(subject[1])\n",
        "    eeg = np.load(f'{dataset_dir}/S{subject[0]}_{subject[1]}.npz')['eeg'].T\n",
        "    if spikes: eeg = set_holes(eeg, spikes)\n",
        "    #scaler = MinMaxScaler(feature_range=(-1, 1))\n",
        "    scaler = StandardScaler()\n",
        "    eeg = scaler.fit_transform(eeg)\n",
        "    assert(eeg.shape[1] == num_columns)\n",
        "    tot_rows += len(eeg)\n",
        "    # decimation (optional)\n",
        "    if decimation_factor:\n",
        "      eeg2 = np.empty((eeg.shape[0] // decimation_factor, eeg.shape[1]))\n",
        "      for col in range(0, num_columns):\n",
        "        #tmp = scipy.signal.decimate(fusion[:, col], decimation_factor)\n",
        "        tmp = eeg[:, col][::decimation_factor]  # simpler method\n",
        "        eeg2[:, col] = tmp[:len(eeg2)]\n",
        "      eeg = eeg2\n",
        "    # windowing\n",
        "    # compute number of windows (lazy way)\n",
        "    i = 0\n",
        "    num_w = 0\n",
        "    while i + window  <= len(eeg):\n",
        "      i += (window - overlap)\n",
        "      num_w += 1\n",
        "    # compute actual windows\n",
        "    x_data_part = np.empty((num_w, window, num_columns))  # preallocate\n",
        "    i = 0\n",
        "    for w in range(0, num_w):\n",
        "      x_data_part[w] = eeg[i:i + window]\n",
        "      i += (window - overlap)\n",
        "      if False: # watermark provenience of every window\n",
        "        for cc in range(0, num_columns):\n",
        "          x_data_part[w, 0, cc] = 1000 * (len(subj_inputs) - 1) + cc\n",
        "    x_data = np.vstack((x_data, x_data_part))\n",
        "    y_data = np.vstack((y_data, np.full((num_w, 1), category)))\n",
        "    subj_inputs[-1] += num_w\n",
        "\n",
        "  print('\\ntot samples:', tot_rows)\n",
        "  print('x_data:', x_data.shape)\n",
        "  print('y_data:', y_data.shape)\n",
        "  print('windows per subject:', subj_inputs)\n",
        "  print('class distribution:', [np.sum(y_data == cl) for cl in range(0, num_classes)])\n",
        "\n",
        "  return x_data, y_data, subj_inputs"
      ],
      "metadata": {
        "id": "WR9vhF_O1pyS"
      },
      "execution_count": 5,
      "outputs": []
    },
    {
      "cell_type": "code",
      "source": [
        "def set_holes(A, prob):\n",
        "  for i in range(0, len(A)):\n",
        "    if np.random.rand() < prob:\n",
        "      l = 20\n",
        "      l = int(np.random.normal(l, l / 2))\n",
        "      A[i:i+l,:] = 0\n",
        "  return A\n",
        "\n",
        "\n",
        "def partition_data(subjects):\n",
        "  # subjects = tuple (0-based)\n",
        "  x_part = None\n",
        "  y_part = None\n",
        "  subj_inputs_part = []\n",
        "  for subj in subjects:\n",
        "    subj_inputs_part.append(subj_inputs[subj])\n",
        "    skip = sum(subj_inputs[:subj])\n",
        "    num = subj_inputs[subj]\n",
        "    xx = x_data[skip : skip + num]\n",
        "    yy = y_data[skip : skip + num]\n",
        "    if x_part is None:\n",
        "      x_part = xx.copy()\n",
        "      y_part = yy.copy()\n",
        "    else:\n",
        "      x_part = np.vstack((x_part, xx))  # vstack creates a copy of the data\n",
        "      y_part = np.vstack((y_part, yy))\n",
        "  return x_part, y_part, subj_inputs_part\n",
        "\n",
        "\n",
        "def oversampling(x_data, y_data):\n",
        "  # Duplicate inputs with classes occurring less, so to have a more balanced distribution.\n",
        "  # It operates on single data windows, so use it on data that have already been split\n",
        "  #  by subject (typically only on training data).\n",
        "  x_data_over = x_data.copy()\n",
        "  y_data_over = y_data.copy()\n",
        "  occurr = [np.sum(y_data == cl) for cl in range(0, num_classes)]\n",
        "  for cl in range(0, num_classes):\n",
        "    if occurr[cl] == max(occurr):\n",
        "      continue\n",
        "    mask = y_data[:, 0] == cl\n",
        "    x_dup = x_data[mask].copy()\n",
        "    y_dup = y_data[mask].copy()\n",
        "    while occurr[cl] < max(occurr):\n",
        "      x_dup_jitter = x_dup + np.random.normal(scale=0.03, size=x_dup.shape)\n",
        "      how_many = min(len(y_dup), max(occurr) - occurr[cl])\n",
        "      x_data_over = np.vstack((x_data_over, x_dup_jitter[:how_many]))\n",
        "      y_data_over = np.vstack((y_data_over, y_dup[:how_many]))\n",
        "      occurr[cl] += how_many\n",
        "  return x_data_over, y_data_over\n",
        "\n",
        "\n",
        "def create_model(sample_window, dense1, lstm1, lstm2, lstm3 = 0, dropout = 0.2):\n",
        "  print(\"\\n### creating model\")\n",
        "  model = keras.Sequential()\n",
        "  model.add(keras.Input(shape = sample_window.shape, name = 'input'))\n",
        "  if dense1: model.add(Dense(dense1, name = 'dense1'))\n",
        "  #model.add(BatchNormalization(name = 'norm1'))\n",
        "  #model.add(Dropout(dropout, name = 'drop1'))\n",
        "  model.add(LSTM(lstm1, return_sequences = bool(lstm2), name = 'lstm1'))\n",
        "  if lstm2:\n",
        "    model.add(Dropout(dropout, name = 'drop2'))\n",
        "    model.add(LSTM(lstm2, return_sequences = bool(lstm3), name = 'lstm2'))\n",
        "  if lstm3:\n",
        "    model.add(Dropout(dropout, name = 'drop4'))\n",
        "    model.add(LSTM(lstm3, name = 'lstm3'))\n",
        "  model.add(Dropout(dropout, name = 'drop3'))\n",
        "  model.add(Dense(num_classes, name = 'dense2'))\n",
        "  model.compile(loss = keras.losses.SparseCategoricalCrossentropy(from_logits = True),\n",
        "    optimizer = 'adam', metrics = ['accuracy'])\n",
        "  model.summary()\n",
        "  return model\n",
        "\n",
        "\n",
        "def pca_reduction(A, tol, comp = 0):\n",
        "  assert(len(A.shape) == 2)\n",
        "  dmin = min(A.shape)\n",
        "  if rpca:\n",
        "    r = r_pca.R_pca(A, mu = rpca_mu)\n",
        "    print('Auto tol:', 1e-7 * r.frobenius_norm(r.D), 'used tol:', tol)\n",
        "    print('mu', r.mu, 'lambda', r.lmbda)\n",
        "    L, S = r.fit(tol = tol, max_iter = 10, iter_print = 1)\n",
        "    global norm_s\n",
        "    norm_s = np.linalg.norm(S, ord='fro')  # for debug\n",
        "    print('||A,L,S||:', np.linalg.norm(A, ord='fro'), np.linalg.norm(L, ord='fro'), np.linalg.norm(S, ord='fro'))\n",
        "    #np.savez_compressed('rpca.npz', pre = A, post = L)\n",
        "  elif multiscale_pca:\n",
        "    print('MSPCA...')\n",
        "    #ms = mspca.MultiscalePCA()\n",
        "    #L = ms.fit_transform(A, wavelet_func='sym4', threshold=0.1, scale = True )\n",
        "    print('saving MAT file and calling Matlab...')\n",
        "    scipy.io.savemat('mspca.mat', {'A': A}, do_compression = True)\n",
        "    os.system('matlab -batch \"mspca(\\'mspca.mat\\')\"')\n",
        "    L = scipy.io.loadmat('mspca.mat')['L']\n",
        "  else:\n",
        "    L = A\n",
        "  U, lam, V = np.linalg.svd(L, full_matrices = False)  # V is transposed\n",
        "  assert(U.shape == (A.shape[0], dmin) and lam.shape == (dmin,) and V.shape == (dmin, A.shape[1]))\n",
        "  #np.savetxt('singular_values.csv', lam)\n",
        "  lam_trunc = lam[lam > 0.015 * lam[0]]  # magic number\n",
        "  p = comp if comp else len(lam_trunc)\n",
        "  assert(p <= dmin)\n",
        "  print('PCA truncation', dmin, '->', p)\n",
        "  return L, V.T[:,:p]\n",
        "\n",
        "\n",
        "def reduce_matrix(A, V):\n",
        "  # (N, w, 16) → (N, 16, w) → ((N*16), w) → compute V\n",
        "  # (N, 16, w) * V → transpose again last dimensions\n",
        "  B = np.swapaxes(A, 1, 2)  # (N, 16, w)\n",
        "  C = B.reshape((-1, B.shape[2]))  # ((N*16), w)\n",
        "  if V is None:\n",
        "    L, V = pca_reduction(C, 5e-6, comp = 50)\n",
        "  B = C @ V  # ((N*16), p)\n",
        "  B = B.reshape((A.shape[0], A.shape[2], B.shape[1]))  # (N, 16, p)\n",
        "  return np.swapaxes(B, 1, 2), V  # B = (N, p, 16)\n",
        "\n",
        "\n",
        "def adjust_size(x, y):\n",
        "  # when flattening the data matrix on the first dimension, y must be made compatible\n",
        "  if len(x) == len(y): return y\n",
        "  factor = len(x) // len(y)\n",
        "  ynew = np.empty((len(x), 1))\n",
        "  for i in range(0, len(y)):\n",
        "    ynew[i * factor : (i + 1) * factor] = y[i]\n",
        "  return ynew\n"
      ],
      "metadata": {
        "id": "ck7mkI-OvbYh"
      },
      "execution_count": 6,
      "outputs": []
    },
    {
      "cell_type": "code",
      "source": [
        "def train_session(save_model = False, load_model = None, write_report = True, file_id = '', earlystop = 0, train_split = 0.75):\n",
        "  def write_values():\n",
        "    print(time.strftime('%H:%M:%S'), file = out_f)\n",
        "    print('window', window, 'overlap', overlap, 'decimation', decimation, file = out_f)\n",
        "    print('layers', dense1, lstm1, lstm2, lstm3, file = out_f)\n",
        "    print('oversample', oversample, file = out_f)\n",
        "    print('pca', pca, file = out_f)\n",
        "    print('rpca', rpca, file = out_f)\n",
        "    print('mspca', multiscale_pca, file = out_f)\n",
        "    print('subj_train', permutation, file = out_f)\n",
        "    print('epochs', epochs, file = out_f)\n",
        "    if history is not None:\n",
        "      print('fit_accuracy', [round(x, 4) for x in history.history['accuracy']], file = out_f)\n",
        "    if history is not None and 'val_accuracy' in history.history:\n",
        "      print('fit_val_accuracy', [round(x, 4) for x in history.history['val_accuracy']], file = out_f)\n",
        "    print('subj_test', subjs_test[perm_index] if subjs_test and type(subjs_test[0]) == tuple else subjs_test, file = out_f)\n",
        "    if subjs_test: print('test_accuracy', round(eval_metrics[1], 4), file = out_f)\n",
        "    print('permutation', perm_index + 1, file = out_f)\n",
        "    print('train_size', len(x_data_train), file = out_f)\n",
        "    print('p', 0 if Vpca is None else Vpca.shape[1], file = out_f)\n",
        "    print('spikes', spikes, file = out_f)\n",
        "    print('time_train', time_train, file = out_f)\n",
        "    if subjs_test: print('time_test', time_test, file = out_f)\n",
        "    print(file = out_f)\n",
        "    out_f.flush()\n",
        "\n",
        "  if write_report:\n",
        "    output_file = time.strftime('%Y%m%d-%H%M%S') + file_id + '.txt'\n",
        "    out_f = open(working_dir + '/' + output_file, 'w')\n",
        "  # tensorboard stuff\n",
        "  #%rm -rf \"$log_dir_base\"\n",
        "  log_dir = log_dir_base + '/' + datetime.datetime.now().strftime('%Y%m%d-%H%M%S')\n",
        "  for perm_index, permutation in enumerate(subjs_train_perm):\n",
        "    assert(type(permutation) == tuple)\n",
        "    assert(len(permutation) == 2)\n",
        "    assert(type(permutation[0]) == tuple)\n",
        "    assert(type(permutation[1]) == tuple)\n",
        "    assert(type(subjs_test) == tuple)\n",
        "    tf.random.set_seed(42)\n",
        "    np.random.seed(42)\n",
        "    x_data_train, y_data_train, _ = partition_data(permutation[0])  # train subjects\n",
        "    x_data_val, y_data_val, _ = partition_data(permutation[1])  # validation subjects, can be None\n",
        "    if oversample:\n",
        "      print('\\nclass distribution (training subset):', [np.sum(y_data_train == cl) for cl in range(0, num_classes)])\n",
        "      x_data_train, y_data_train = oversampling(x_data_train, y_data_train)\n",
        "      print('After oversampling (training subset):')\n",
        "      print('x_data_train:', x_data_train.shape)\n",
        "      print('y_data_train:', y_data_train.shape)\n",
        "      print('class distribution:', [np.sum(y_data_train == cl) for cl in range(0, num_classes)])\n",
        "    if False:\n",
        "      #for i in range(0, len(x_data_train)):\n",
        "      #  x_data_train[i] = set_holes(x_data_train[i], spikes)\n",
        "      for w in range(0, len(x_data_train)):  # every window\n",
        "        for c in range(0, x_data_train.shape[2]):  # every column\n",
        "          if np.random.rand() < spikes:\n",
        "            t = 1\n",
        "            for r in range(0, x_data_train.shape[1] // 2):\n",
        "              x_data_train[w, r + x_data_train.shape[1] // 4 , c] = t\n",
        "              t *= -1\n",
        "    # if train_split != 0, we ignore the provided x_data_val and split training in training + validation (Laura)\n",
        "    if train_split:\n",
        "      x_data_train, x_data_val, y_data_train, y_data_val = sklearn.model_selection.train_test_split(x_data_train, y_data_train, train_size = train_split, random_state=42, shuffle=True)\n",
        "    #\n",
        "    #np.savez_compressed('x_data_train.npz', x_data_train = x_data_train)\n",
        "    #print('x_data_train saved')\n",
        "    if pca:\n",
        "      print('\\nPerforming (R)PCA...')\n",
        "      x_data_train, Vpca = reduce_matrix(x_data_train, None)\n",
        "      y_data_train = adjust_size(x_data_train, y_data_train)\n",
        "      if x_data_val is not None:\n",
        "        x_data_val, _ = reduce_matrix(x_data_val, Vpca)\n",
        "        y_data_val = adjust_size(x_data_val, y_data_val)\n",
        "      print('x_data_train:', x_data_train.shape)\n",
        "      print('y_data_train:', y_data_train.shape, [np.sum(y_data_train == cl) for cl in range(0, num_classes)])\n",
        "      if x_data_val is not None:\n",
        "        print('x_data_val:', x_data_val.shape)\n",
        "        print('y_data_val:', y_data_val.shape, [np.sum(y_data_val == cl) for cl in range(0, num_classes)])\n",
        "    else:\n",
        "      Vpca = None\n",
        "    if load_model is None:\n",
        "      model = create_model(x_data_train[0], dense1, lstm1, lstm2, lstm3)\n",
        "      # draw model to PNG\n",
        "      keras.utils.plot_model(model, to_file = working_dir + '/model.pdf', show_shapes = True)\n",
        "      # model training\n",
        "      print(f'\\n### training with {permutation[0]}, {len(x_data_train)} inputs, {len(x_data_val) if x_data_val is not None else 0} validation')\n",
        "      callbacks = [keras.callbacks.TensorBoard(log_dir + f'_{perm_index + 1}', histogram_freq = 1)]\n",
        "      if earlystop:\n",
        "        callbacks.append(keras.callbacks.EarlyStopping('val_accuracy', min_delta = 0.001, patience = earlystop, restore_best_weights = True, verbose = 1))\n",
        "      # train\n",
        "      start_time = time.monotonic()\n",
        "      history = model.fit(x_data_train, y_data_train, epochs = epochs,\n",
        "        validation_data = (x_data_val, y_data_val) if x_data_val is not None else None,\n",
        "        callbacks = callbacks)\n",
        "      time_train = time.monotonic() - start_time\n",
        "    else:\n",
        "      # model must match with dataset parameters\n",
        "      model = keras.models.load_model(load_model)\n",
        "      history = None\n",
        "      time_train = 0\n",
        "\n",
        "    # model test\n",
        "    if subjs_test:\n",
        "      x_data_test, y_data_test, _ = partition_data(subjs_test[perm_index] if type(subjs_test[0]) == tuple else subjs_test)\n",
        "      if pca:\n",
        "        x_data_test, _ = reduce_matrix(x_data_test, Vpca)\n",
        "        y_data_test = adjust_size(x_data_test, y_data_test)\n",
        "      print(f'\\n### testing with {subjs_test[perm_index] if type(subjs_test[0]) == tuple else subjs_test}, {len(x_data_test)} inputs')\n",
        "      start_time = time.monotonic()\n",
        "      eval_metrics = model.evaluate(x_data_test, y_data_test)\n",
        "      time_test = time.monotonic() - start_time\n",
        "    else:\n",
        "      eval_metrics = [0., 0.]\n",
        "    if write_report:\n",
        "      write_values()\n",
        "    if save_model:\n",
        "      # save in both directory and h5 formats (we had problems with both of them sometimes)\n",
        "      model_file_name = f'{working_dir}/{file_id}model_w{window:04d}_o{overlap:03d}_d{decimation:03d}_e{epochs}_t{round(eval_metrics[1] * 10000)}'\n",
        "      #model.save(model_file_name)\n",
        "      model.save(model_file_name + '.h5')\n",
        "  if write_report:\n",
        "    out_f.close()\n",
        "\n",
        "  return model, x_data_test, y_data_test, eval_metrics[1]  # can be needed by other blocks\n"
      ],
      "metadata": {
        "id": "NugCn0y615kI"
      },
      "execution_count": 7,
      "outputs": []
    },
    {
      "cell_type": "markdown",
      "source": [
        "# With RPCA"
      ],
      "metadata": {
        "id": "Gt1qZ0mZ81lH"
      }
    },
    {
      "cell_type": "code",
      "source": [
        "\n",
        "\"\"\"---\n",
        "**Start of actual program blocks:**\n",
        "\"\"\"\n",
        "\n",
        "# create dataset, create model, train and test\n",
        "# if __name__ == '__main__':\n",
        "dense1 = 0\n",
        "lstm1 = 8\n",
        "lstm2 = 8\n",
        "lstm3 = 0\n",
        "\n",
        "window = 512\n",
        "overlap = window // 2\n",
        "oversample = True\n",
        "decimation = 0\n",
        "pca = True  # compute PCA on full data matrix\n",
        "rpca = True  # compute RPCA before PCA\n",
        "spikes = 1/500\n",
        "rpca_mu = 0.1\n",
        "\n",
        "subjs_train_perm = ( (tuple(i for i in range(2, 10)) + tuple(i for i in range(20, 32)), ()), )\n",
        "# subjs_train_perm = ( (tuple(i for i in range(2, 15)) + tuple(i for i in range(18, 35)), ()), )\n",
        "subjs_test = (0, 1, 15, 16, 17)  # 2 for N, 3 for AD\n",
        "\n",
        "x_data, y_data, subj_inputs = create_dataset(window, overlap, decimation)\n",
        "\n"
      ],
      "metadata": {
        "colab": {
          "base_uri": "https://localhost:8080/"
        },
        "id": "7QbV71jUwRtZ",
        "outputId": "1af2eaa0-12f9-4aa8-d64b-8fb1b428d4bb"
      },
      "execution_count": 8,
      "outputs": [
        {
          "output_type": "stream",
          "name": "stdout",
          "text": [
            "(('01', 'N'), ('02', 'N'), ('03', 'N'), ('04', 'N'), ('05', 'N'), ('06', 'N'), ('07', 'N'), ('08', 'N'), ('09', 'N'), ('10', 'N'), ('11', 'N'), ('12', 'N'), ('13', 'N'), ('14', 'N'), ('15', 'N'), ('01', 'AD'), ('02', 'AD'), ('03', 'AD'), ('04', 'AD'), ('05', 'AD'), ('06', 'AD'), ('07', 'AD'), ('08', 'AD'), ('09', 'AD'), ('10', 'AD'), ('11', 'AD'), ('12', 'AD'), ('13', 'AD'), ('14', 'AD'), ('15', 'AD'), ('16', 'AD'), ('17', 'AD'), ('18', 'AD'), ('19', 'AD'), ('20', 'AD'))\n",
            "\n",
            "### creating dataset\n",
            "\n",
            "tot samples: 5954304\n",
            "x_data: (23214, 512, 16)\n",
            "y_data: (23214, 1)\n",
            "windows per subject: [433, 379, 369, 779, 569, 454, 627, 939, 780, 567, 564, 543, 554, 748, 642, 691, 714, 719, 762, 664, 745, 786, 830, 673, 735, 797, 571, 560, 769, 717, 663, 771, 576, 581, 943]\n",
            "class distribution: [8947, 14267]\n"
          ]
        }
      ]
    },
    {
      "cell_type": "code",
      "source": [
        "epochs = 20\n",
        "model, x_data_test, y_data_test, test_acc = train_session(save_model = False, earlystop = 0)  # returned variables can be optionally used by other blocks of code"
      ],
      "metadata": {
        "colab": {
          "base_uri": "https://localhost:8080/",
          "height": 1000
        },
        "id": "rAIBw4UwzVF6",
        "outputId": "7b5e3bcf-fab4-404b-d699-68beb7378fcd"
      },
      "execution_count": 9,
      "outputs": [
        {
          "output_type": "stream",
          "name": "stdout",
          "text": [
            "\n",
            "class distribution (training subset): [5084, 8617]\n",
            "After oversampling (training subset):\n",
            "x_data_train: (17234, 512, 16)\n",
            "y_data_train: (17234, 1)\n",
            "class distribution: [8617, 8617]\n",
            "\n",
            "Performing (R)PCA...\n",
            "Auto tol: 0.0010344778558314565 used tol: 5e-06\n",
            "mu 0.1 lambda 0.0021989974856677125\n",
            "iteration: 1, error: 134.6172613055751, ||S||: 134.3061021470088\n",
            "iteration: 2, error: 12.839614840049379, ||S||: 259.8708983895782\n",
            "iteration: 3, error: 9.51911699938052, ||S||: 379.38156992304454\n",
            "iteration: 4, error: 9.989859560446579, ||S||: 491.95380009396445\n",
            "iteration: 5, error: 10.886023186806522, ||S||: 596.451195676024\n",
            "iteration: 6, error: 11.573379074088157, ||S||: 691.983522445099\n",
            "iteration: 7, error: 11.90489882629218, ||S||: 778.3110053361476\n",
            "iteration: 8, error: 11.990654529862717, ||S||: 855.9370358567699\n",
            "iteration: 9, error: 11.994592888699374, ||S||: 925.8271242793462\n",
            "iteration: 10, error: 11.98259636903584, ||S||: 989.0609694467962\n",
            "||A,L,S||: 10344.778558314565 10093.85730157766 989.0609694467962\n",
            "PCA truncation 512 -> 50\n",
            "x_data_train: (12925, 50, 16)\n",
            "y_data_train: (12925, 1) [6477, 6448]\n",
            "x_data_val: (4309, 50, 16)\n",
            "y_data_val: (4309, 1) [2140, 2169]\n",
            "\n",
            "### creating model\n"
          ]
        },
        {
          "output_type": "display_data",
          "data": {
            "text/plain": [
              "\u001b[1mModel: \"sequential\"\u001b[0m\n"
            ],
            "text/html": [
              "<pre style=\"white-space:pre;overflow-x:auto;line-height:normal;font-family:Menlo,'DejaVu Sans Mono',consolas,'Courier New',monospace\"><span style=\"font-weight: bold\">Model: \"sequential\"</span>\n",
              "</pre>\n"
            ]
          },
          "metadata": {}
        },
        {
          "output_type": "display_data",
          "data": {
            "text/plain": [
              "┏━━━━━━━━━━━━━━━━━━━━━━━━━━━━━━━━━━━━━━┳━━━━━━━━━━━━━━━━━━━━━━━━━━━━━┳━━━━━━━━━━━━━━━━━┓\n",
              "┃\u001b[1m \u001b[0m\u001b[1mLayer (type)                        \u001b[0m\u001b[1m \u001b[0m┃\u001b[1m \u001b[0m\u001b[1mOutput Shape               \u001b[0m\u001b[1m \u001b[0m┃\u001b[1m \u001b[0m\u001b[1m        Param #\u001b[0m\u001b[1m \u001b[0m┃\n",
              "┡━━━━━━━━━━━━━━━━━━━━━━━━━━━━━━━━━━━━━━╇━━━━━━━━━━━━━━━━━━━━━━━━━━━━━╇━━━━━━━━━━━━━━━━━┩\n",
              "│ lstm1 (\u001b[38;5;33mLSTM\u001b[0m)                         │ (\u001b[38;5;45mNone\u001b[0m, \u001b[38;5;34m50\u001b[0m, \u001b[38;5;34m8\u001b[0m)               │             \u001b[38;5;34m800\u001b[0m │\n",
              "├──────────────────────────────────────┼─────────────────────────────┼─────────────────┤\n",
              "│ drop2 (\u001b[38;5;33mDropout\u001b[0m)                      │ (\u001b[38;5;45mNone\u001b[0m, \u001b[38;5;34m50\u001b[0m, \u001b[38;5;34m8\u001b[0m)               │               \u001b[38;5;34m0\u001b[0m │\n",
              "├──────────────────────────────────────┼─────────────────────────────┼─────────────────┤\n",
              "│ lstm2 (\u001b[38;5;33mLSTM\u001b[0m)                         │ (\u001b[38;5;45mNone\u001b[0m, \u001b[38;5;34m8\u001b[0m)                   │             \u001b[38;5;34m544\u001b[0m │\n",
              "├──────────────────────────────────────┼─────────────────────────────┼─────────────────┤\n",
              "│ drop3 (\u001b[38;5;33mDropout\u001b[0m)                      │ (\u001b[38;5;45mNone\u001b[0m, \u001b[38;5;34m8\u001b[0m)                   │               \u001b[38;5;34m0\u001b[0m │\n",
              "├──────────────────────────────────────┼─────────────────────────────┼─────────────────┤\n",
              "│ dense2 (\u001b[38;5;33mDense\u001b[0m)                       │ (\u001b[38;5;45mNone\u001b[0m, \u001b[38;5;34m2\u001b[0m)                   │              \u001b[38;5;34m18\u001b[0m │\n",
              "└──────────────────────────────────────┴─────────────────────────────┴─────────────────┘\n"
            ],
            "text/html": [
              "<pre style=\"white-space:pre;overflow-x:auto;line-height:normal;font-family:Menlo,'DejaVu Sans Mono',consolas,'Courier New',monospace\">┏━━━━━━━━━━━━━━━━━━━━━━━━━━━━━━━━━━━━━━┳━━━━━━━━━━━━━━━━━━━━━━━━━━━━━┳━━━━━━━━━━━━━━━━━┓\n",
              "┃<span style=\"font-weight: bold\"> Layer (type)                         </span>┃<span style=\"font-weight: bold\"> Output Shape                </span>┃<span style=\"font-weight: bold\">         Param # </span>┃\n",
              "┡━━━━━━━━━━━━━━━━━━━━━━━━━━━━━━━━━━━━━━╇━━━━━━━━━━━━━━━━━━━━━━━━━━━━━╇━━━━━━━━━━━━━━━━━┩\n",
              "│ lstm1 (<span style=\"color: #0087ff; text-decoration-color: #0087ff\">LSTM</span>)                         │ (<span style=\"color: #00d7ff; text-decoration-color: #00d7ff\">None</span>, <span style=\"color: #00af00; text-decoration-color: #00af00\">50</span>, <span style=\"color: #00af00; text-decoration-color: #00af00\">8</span>)               │             <span style=\"color: #00af00; text-decoration-color: #00af00\">800</span> │\n",
              "├──────────────────────────────────────┼─────────────────────────────┼─────────────────┤\n",
              "│ drop2 (<span style=\"color: #0087ff; text-decoration-color: #0087ff\">Dropout</span>)                      │ (<span style=\"color: #00d7ff; text-decoration-color: #00d7ff\">None</span>, <span style=\"color: #00af00; text-decoration-color: #00af00\">50</span>, <span style=\"color: #00af00; text-decoration-color: #00af00\">8</span>)               │               <span style=\"color: #00af00; text-decoration-color: #00af00\">0</span> │\n",
              "├──────────────────────────────────────┼─────────────────────────────┼─────────────────┤\n",
              "│ lstm2 (<span style=\"color: #0087ff; text-decoration-color: #0087ff\">LSTM</span>)                         │ (<span style=\"color: #00d7ff; text-decoration-color: #00d7ff\">None</span>, <span style=\"color: #00af00; text-decoration-color: #00af00\">8</span>)                   │             <span style=\"color: #00af00; text-decoration-color: #00af00\">544</span> │\n",
              "├──────────────────────────────────────┼─────────────────────────────┼─────────────────┤\n",
              "│ drop3 (<span style=\"color: #0087ff; text-decoration-color: #0087ff\">Dropout</span>)                      │ (<span style=\"color: #00d7ff; text-decoration-color: #00d7ff\">None</span>, <span style=\"color: #00af00; text-decoration-color: #00af00\">8</span>)                   │               <span style=\"color: #00af00; text-decoration-color: #00af00\">0</span> │\n",
              "├──────────────────────────────────────┼─────────────────────────────┼─────────────────┤\n",
              "│ dense2 (<span style=\"color: #0087ff; text-decoration-color: #0087ff\">Dense</span>)                       │ (<span style=\"color: #00d7ff; text-decoration-color: #00d7ff\">None</span>, <span style=\"color: #00af00; text-decoration-color: #00af00\">2</span>)                   │              <span style=\"color: #00af00; text-decoration-color: #00af00\">18</span> │\n",
              "└──────────────────────────────────────┴─────────────────────────────┴─────────────────┘\n",
              "</pre>\n"
            ]
          },
          "metadata": {}
        },
        {
          "output_type": "display_data",
          "data": {
            "text/plain": [
              "\u001b[1m Total params: \u001b[0m\u001b[38;5;34m1,362\u001b[0m (5.32 KB)\n"
            ],
            "text/html": [
              "<pre style=\"white-space:pre;overflow-x:auto;line-height:normal;font-family:Menlo,'DejaVu Sans Mono',consolas,'Courier New',monospace\"><span style=\"font-weight: bold\"> Total params: </span><span style=\"color: #00af00; text-decoration-color: #00af00\">1,362</span> (5.32 KB)\n",
              "</pre>\n"
            ]
          },
          "metadata": {}
        },
        {
          "output_type": "display_data",
          "data": {
            "text/plain": [
              "\u001b[1m Trainable params: \u001b[0m\u001b[38;5;34m1,362\u001b[0m (5.32 KB)\n"
            ],
            "text/html": [
              "<pre style=\"white-space:pre;overflow-x:auto;line-height:normal;font-family:Menlo,'DejaVu Sans Mono',consolas,'Courier New',monospace\"><span style=\"font-weight: bold\"> Trainable params: </span><span style=\"color: #00af00; text-decoration-color: #00af00\">1,362</span> (5.32 KB)\n",
              "</pre>\n"
            ]
          },
          "metadata": {}
        },
        {
          "output_type": "display_data",
          "data": {
            "text/plain": [
              "\u001b[1m Non-trainable params: \u001b[0m\u001b[38;5;34m0\u001b[0m (0.00 B)\n"
            ],
            "text/html": [
              "<pre style=\"white-space:pre;overflow-x:auto;line-height:normal;font-family:Menlo,'DejaVu Sans Mono',consolas,'Courier New',monospace\"><span style=\"font-weight: bold\"> Non-trainable params: </span><span style=\"color: #00af00; text-decoration-color: #00af00\">0</span> (0.00 B)\n",
              "</pre>\n"
            ]
          },
          "metadata": {}
        },
        {
          "output_type": "stream",
          "name": "stdout",
          "text": [
            "\n",
            "### training with (2, 3, 4, 5, 6, 7, 8, 9, 20, 21, 22, 23, 24, 25, 26, 27, 28, 29, 30, 31), 12925 inputs, 4309 validation\n",
            "Epoch 1/20\n",
            "\u001b[1m404/404\u001b[0m \u001b[32m━━━━━━━━━━━━━━━━━━━━\u001b[0m\u001b[37m\u001b[0m \u001b[1m21s\u001b[0m 40ms/step - accuracy: 0.6068 - loss: 0.6340 - val_accuracy: 0.8953 - val_loss: 0.2745\n",
            "Epoch 2/20\n",
            "\u001b[1m404/404\u001b[0m \u001b[32m━━━━━━━━━━━━━━━━━━━━\u001b[0m\u001b[37m\u001b[0m \u001b[1m19s\u001b[0m 39ms/step - accuracy: 0.9014 - loss: 0.2706 - val_accuracy: 0.9373 - val_loss: 0.1833\n",
            "Epoch 3/20\n",
            "\u001b[1m404/404\u001b[0m \u001b[32m━━━━━━━━━━━━━━━━━━━━\u001b[0m\u001b[37m\u001b[0m \u001b[1m20s\u001b[0m 39ms/step - accuracy: 0.9364 - loss: 0.1846 - val_accuracy: 0.9520 - val_loss: 0.1433\n",
            "Epoch 4/20\n",
            "\u001b[1m404/404\u001b[0m \u001b[32m━━━━━━━━━━━━━━━━━━━━\u001b[0m\u001b[37m\u001b[0m \u001b[1m16s\u001b[0m 39ms/step - accuracy: 0.9516 - loss: 0.1465 - val_accuracy: 0.9599 - val_loss: 0.1216\n",
            "Epoch 5/20\n",
            "\u001b[1m404/404\u001b[0m \u001b[32m━━━━━━━━━━━━━━━━━━━━\u001b[0m\u001b[37m\u001b[0m \u001b[1m16s\u001b[0m 39ms/step - accuracy: 0.9630 - loss: 0.1225 - val_accuracy: 0.9675 - val_loss: 0.1051\n",
            "Epoch 6/20\n",
            "\u001b[1m404/404\u001b[0m \u001b[32m━━━━━━━━━━━━━━━━━━━━\u001b[0m\u001b[37m\u001b[0m \u001b[1m21s\u001b[0m 39ms/step - accuracy: 0.9662 - loss: 0.1051 - val_accuracy: 0.9708 - val_loss: 0.0951\n",
            "Epoch 7/20\n",
            "\u001b[1m404/404\u001b[0m \u001b[32m━━━━━━━━━━━━━━━━━━━━\u001b[0m\u001b[37m\u001b[0m \u001b[1m20s\u001b[0m 39ms/step - accuracy: 0.9715 - loss: 0.0918 - val_accuracy: 0.9740 - val_loss: 0.0867\n",
            "Epoch 8/20\n",
            "\u001b[1m404/404\u001b[0m \u001b[32m━━━━━━━━━━━━━━━━━━━━\u001b[0m\u001b[37m\u001b[0m \u001b[1m20s\u001b[0m 38ms/step - accuracy: 0.9733 - loss: 0.0819 - val_accuracy: 0.9761 - val_loss: 0.0804\n",
            "Epoch 9/20\n",
            "\u001b[1m404/404\u001b[0m \u001b[32m━━━━━━━━━━━━━━━━━━━━\u001b[0m\u001b[37m\u001b[0m \u001b[1m16s\u001b[0m 39ms/step - accuracy: 0.9764 - loss: 0.0732 - val_accuracy: 0.9766 - val_loss: 0.0767\n",
            "Epoch 10/20\n",
            "\u001b[1m404/404\u001b[0m \u001b[32m━━━━━━━━━━━━━━━━━━━━\u001b[0m\u001b[37m\u001b[0m \u001b[1m21s\u001b[0m 39ms/step - accuracy: 0.9795 - loss: 0.0697 - val_accuracy: 0.9780 - val_loss: 0.0714\n",
            "Epoch 11/20\n",
            "\u001b[1m404/404\u001b[0m \u001b[32m━━━━━━━━━━━━━━━━━━━━\u001b[0m\u001b[37m\u001b[0m \u001b[1m20s\u001b[0m 39ms/step - accuracy: 0.9805 - loss: 0.0645 - val_accuracy: 0.9770 - val_loss: 0.0714\n",
            "Epoch 12/20\n",
            "\u001b[1m404/404\u001b[0m \u001b[32m━━━━━━━━━━━━━━━━━━━━\u001b[0m\u001b[37m\u001b[0m \u001b[1m21s\u001b[0m 40ms/step - accuracy: 0.9804 - loss: 0.0613 - val_accuracy: 0.9786 - val_loss: 0.0690\n",
            "Epoch 13/20\n",
            "\u001b[1m404/404\u001b[0m \u001b[32m━━━━━━━━━━━━━━━━━━━━\u001b[0m\u001b[37m\u001b[0m \u001b[1m20s\u001b[0m 39ms/step - accuracy: 0.9833 - loss: 0.0584 - val_accuracy: 0.9793 - val_loss: 0.0643\n",
            "Epoch 14/20\n",
            "\u001b[1m404/404\u001b[0m \u001b[32m━━━━━━━━━━━━━━━━━━━━\u001b[0m\u001b[37m\u001b[0m \u001b[1m21s\u001b[0m 40ms/step - accuracy: 0.9813 - loss: 0.0592 - val_accuracy: 0.9789 - val_loss: 0.0635\n",
            "Epoch 15/20\n",
            "\u001b[1m404/404\u001b[0m \u001b[32m━━━━━━━━━━━━━━━━━━━━\u001b[0m\u001b[37m\u001b[0m \u001b[1m20s\u001b[0m 39ms/step - accuracy: 0.9828 - loss: 0.0573 - val_accuracy: 0.9798 - val_loss: 0.0606\n",
            "Epoch 16/20\n",
            "\u001b[1m404/404\u001b[0m \u001b[32m━━━━━━━━━━━━━━━━━━━━\u001b[0m\u001b[37m\u001b[0m \u001b[1m21s\u001b[0m 41ms/step - accuracy: 0.9833 - loss: 0.0533 - val_accuracy: 0.9805 - val_loss: 0.0599\n",
            "Epoch 17/20\n",
            "\u001b[1m404/404\u001b[0m \u001b[32m━━━━━━━━━━━━━━━━━━━━\u001b[0m\u001b[37m\u001b[0m \u001b[1m16s\u001b[0m 39ms/step - accuracy: 0.9840 - loss: 0.0509 - val_accuracy: 0.9805 - val_loss: 0.0575\n",
            "Epoch 18/20\n",
            "\u001b[1m404/404\u001b[0m \u001b[32m━━━━━━━━━━━━━━━━━━━━\u001b[0m\u001b[37m\u001b[0m \u001b[1m20s\u001b[0m 39ms/step - accuracy: 0.9841 - loss: 0.0472 - val_accuracy: 0.9793 - val_loss: 0.0635\n",
            "Epoch 19/20\n",
            "\u001b[1m404/404\u001b[0m \u001b[32m━━━━━━━━━━━━━━━━━━━━\u001b[0m\u001b[37m\u001b[0m \u001b[1m20s\u001b[0m 39ms/step - accuracy: 0.9857 - loss: 0.0473 - val_accuracy: 0.9817 - val_loss: 0.0590\n",
            "Epoch 20/20\n",
            "\u001b[1m404/404\u001b[0m \u001b[32m━━━━━━━━━━━━━━━━━━━━\u001b[0m\u001b[37m\u001b[0m \u001b[1m21s\u001b[0m 40ms/step - accuracy: 0.9857 - loss: 0.0440 - val_accuracy: 0.9814 - val_loss: 0.0589\n",
            "\n",
            "### testing with (0, 1, 15, 16, 17), 2936 inputs\n",
            "\u001b[1m92/92\u001b[0m \u001b[32m━━━━━━━━━━━━━━━━━━━━\u001b[0m\u001b[37m\u001b[0m \u001b[1m1s\u001b[0m 9ms/step - accuracy: 0.9440 - loss: 0.2022\n"
          ]
        }
      ]
    },
    {
      "cell_type": "code",
      "source": [
        "# model test only\n",
        "# if False and __name__ == '__main__':\n",
        "print(f'### testing with {len(x_data_test)} inputs')\n",
        "eval_metrics = model.evaluate(x_data_test, y_data_test)\n"
      ],
      "metadata": {
        "id": "I2DndfcMwfLF",
        "colab": {
          "base_uri": "https://localhost:8080/"
        },
        "outputId": "c06a5e69-3011-44e1-a0cf-a132351cd9c2"
      },
      "execution_count": 10,
      "outputs": [
        {
          "output_type": "stream",
          "name": "stdout",
          "text": [
            "### testing with 2936 inputs\n",
            "\u001b[1m92/92\u001b[0m \u001b[32m━━━━━━━━━━━━━━━━━━━━\u001b[0m\u001b[37m\u001b[0m \u001b[1m1s\u001b[0m 10ms/step - accuracy: 0.9440 - loss: 0.2022\n"
          ]
        }
      ]
    },
    {
      "cell_type": "code",
      "source": [
        "# # create confusion matrix\n",
        "# if False and __name__ == '__main__':\n",
        "import pandas as pd\n",
        "import seaborn\n",
        "y_pred = np.argmax(model.predict(x_data_test), axis=-1)\n",
        "con_mat = tf.math.confusion_matrix(labels = y_data_test, predictions = y_pred).numpy()\n",
        "con_mat_norm = np.around(con_mat.astype('float') / con_mat.sum(axis = 1)[:, np.newaxis], decimals = 2)\n",
        "classes = ['N', 'AD']\n",
        "con_mat_df = pd.DataFrame(con_mat_norm, index = classes, columns = classes)\n",
        "figure = plt.figure(figsize = (5, 5))\n",
        "seaborn.heatmap(con_mat_df, annot = True, cmap = plt.cm.Blues)\n",
        "plt.tight_layout()\n",
        "plt.ylabel('True label')\n",
        "plt.xlabel('Predicted label')\n",
        "plt.tight_layout()\n",
        "plt.savefig(working_dir + '/confusion_matrix.eps', format='eps')\n",
        "plt.show()"
      ],
      "metadata": {
        "id": "RaDRLf3CweU0",
        "colab": {
          "base_uri": "https://localhost:8080/",
          "height": 524
        },
        "outputId": "73800050-abd4-4dbc-e531-26f7f5db20b0"
      },
      "execution_count": 11,
      "outputs": [
        {
          "output_type": "stream",
          "name": "stdout",
          "text": [
            "\u001b[1m92/92\u001b[0m \u001b[32m━━━━━━━━━━━━━━━━━━━━\u001b[0m\u001b[37m\u001b[0m \u001b[1m2s\u001b[0m 17ms/step\n"
          ]
        },
        {
          "output_type": "display_data",
          "data": {
            "text/plain": [
              "<Figure size 500x500 with 2 Axes>"
            ],
            "image/png": "[encoded data removed]"
          },
          "metadata": {}
        }
      ]
    },
    {
      "cell_type": "markdown",
      "source": [
        "# Without RPCA (PCA only)"
      ],
      "metadata": {
        "id": "RRDjZ1p2879G"
      }
    },
    {
      "cell_type": "code",
      "source": [
        "\n",
        "\"\"\"---\n",
        "**Start of actual program blocks:**\n",
        "\"\"\"\n",
        "\n",
        "# create dataset, create model, train and test\n",
        "# if __name__ == '__main__':\n",
        "dense1 = 0\n",
        "lstm1 = 8\n",
        "lstm2 = 8\n",
        "lstm3 = 0\n",
        "\n",
        "window = 512\n",
        "overlap = window // 2\n",
        "oversample = True\n",
        "decimation = 0\n",
        "pca = True  # compute PCA on full data matrix\n",
        "rpca = False  # compute RPCA before PCA\n",
        "spikes = 1/500\n",
        "rpca_mu = 0.1\n",
        "\n",
        "subjs_train_perm = ( (tuple(i for i in range(2, 10)) + tuple(i for i in range(20, 32)), ()), )\n",
        "# subjs_train_perm = ( (tuple(i for i in range(2, 15)) + tuple(i for i in range(18, 35)), ()), )\n",
        "subjs_test = (0, 1, 15, 16, 17)  # 2 for N, 3 for AD\n",
        "epochs = 20\n",
        "\n",
        "  # if decimation:\n",
        "  #   window //= decimation\n",
        "  #   overlap //= decimation\n",
        "\n",
        "x_data, y_data, subj_inputs = create_dataset(window, overlap, decimation)\n",
        "\n"
      ],
      "metadata": {
        "colab": {
          "base_uri": "https://localhost:8080/"
        },
        "id": "YttU7p2q9Bx-",
        "outputId": "6ce6440a-0636-4298-c209-0ece41595766"
      },
      "execution_count": 12,
      "outputs": [
        {
          "output_type": "stream",
          "name": "stdout",
          "text": [
            "(('01', 'N'), ('02', 'N'), ('03', 'N'), ('04', 'N'), ('05', 'N'), ('06', 'N'), ('07', 'N'), ('08', 'N'), ('09', 'N'), ('10', 'N'), ('11', 'N'), ('12', 'N'), ('13', 'N'), ('14', 'N'), ('15', 'N'), ('01', 'AD'), ('02', 'AD'), ('03', 'AD'), ('04', 'AD'), ('05', 'AD'), ('06', 'AD'), ('07', 'AD'), ('08', 'AD'), ('09', 'AD'), ('10', 'AD'), ('11', 'AD'), ('12', 'AD'), ('13', 'AD'), ('14', 'AD'), ('15', 'AD'), ('16', 'AD'), ('17', 'AD'), ('18', 'AD'), ('19', 'AD'), ('20', 'AD'))\n",
            "\n",
            "### creating dataset\n",
            "\n",
            "tot samples: 5954304\n",
            "x_data: (23214, 512, 16)\n",
            "y_data: (23214, 1)\n",
            "windows per subject: [433, 379, 369, 779, 569, 454, 627, 939, 780, 567, 564, 543, 554, 748, 642, 691, 714, 719, 762, 664, 745, 786, 830, 673, 735, 797, 571, 560, 769, 717, 663, 771, 576, 581, 943]\n",
            "class distribution: [8947, 14267]\n"
          ]
        }
      ]
    },
    {
      "cell_type": "code",
      "source": [
        "\n",
        "model, x_data_test, y_data_test, test_acc = train_session(save_model = False, earlystop = 0)  # returned variables can be optionally used by other blocks of code"
      ],
      "metadata": {
        "colab": {
          "base_uri": "https://localhost:8080/",
          "height": 1000
        },
        "id": "WMj12Uyr9EaG",
        "outputId": "7e75febc-7611-4885-dd83-a9cf8ca8ab70"
      },
      "execution_count": 13,
      "outputs": [
        {
          "output_type": "stream",
          "name": "stdout",
          "text": [
            "\n",
            "class distribution (training subset): [5084, 8617]\n",
            "After oversampling (training subset):\n",
            "x_data_train: (17234, 512, 16)\n",
            "y_data_train: (17234, 1)\n",
            "class distribution: [8617, 8617]\n",
            "\n",
            "Performing (R)PCA...\n",
            "PCA truncation 512 -> 50\n",
            "x_data_train: (12925, 50, 16)\n",
            "y_data_train: (12925, 1) [6477, 6448]\n",
            "x_data_val: (4309, 50, 16)\n",
            "y_data_val: (4309, 1) [2140, 2169]\n",
            "\n",
            "### creating model\n"
          ]
        },
        {
          "output_type": "display_data",
          "data": {
            "text/plain": [
              "\u001b[1mModel: \"sequential_1\"\u001b[0m\n"
            ],
            "text/html": [
              "<pre style=\"white-space:pre;overflow-x:auto;line-height:normal;font-family:Menlo,'DejaVu Sans Mono',consolas,'Courier New',monospace\"><span style=\"font-weight: bold\">Model: \"sequential_1\"</span>\n",
              "</pre>\n"
            ]
          },
          "metadata": {}
        },
        {
          "output_type": "display_data",
          "data": {
            "text/plain": [
              "┏━━━━━━━━━━━━━━━━━━━━━━━━━━━━━━━━━━━━━━┳━━━━━━━━━━━━━━━━━━━━━━━━━━━━━┳━━━━━━━━━━━━━━━━━┓\n",
              "┃\u001b[1m \u001b[0m\u001b[1mLayer (type)                        \u001b[0m\u001b[1m \u001b[0m┃\u001b[1m \u001b[0m\u001b[1mOutput Shape               \u001b[0m\u001b[1m \u001b[0m┃\u001b[1m \u001b[0m\u001b[1m        Param #\u001b[0m\u001b[1m \u001b[0m┃\n",
              "┡━━━━━━━━━━━━━━━━━━━━━━━━━━━━━━━━━━━━━━╇━━━━━━━━━━━━━━━━━━━━━━━━━━━━━╇━━━━━━━━━━━━━━━━━┩\n",
              "│ lstm1 (\u001b[38;5;33mLSTM\u001b[0m)                         │ (\u001b[38;5;45mNone\u001b[0m, \u001b[38;5;34m50\u001b[0m, \u001b[38;5;34m8\u001b[0m)               │             \u001b[38;5;34m800\u001b[0m │\n",
              "├──────────────────────────────────────┼─────────────────────────────┼─────────────────┤\n",
              "│ drop2 (\u001b[38;5;33mDropout\u001b[0m)                      │ (\u001b[38;5;45mNone\u001b[0m, \u001b[38;5;34m50\u001b[0m, \u001b[38;5;34m8\u001b[0m)               │               \u001b[38;5;34m0\u001b[0m │\n",
              "├──────────────────────────────────────┼─────────────────────────────┼─────────────────┤\n",
              "│ lstm2 (\u001b[38;5;33mLSTM\u001b[0m)                         │ (\u001b[38;5;45mNone\u001b[0m, \u001b[38;5;34m8\u001b[0m)                   │             \u001b[38;5;34m544\u001b[0m │\n",
              "├──────────────────────────────────────┼─────────────────────────────┼─────────────────┤\n",
              "│ drop3 (\u001b[38;5;33mDropout\u001b[0m)                      │ (\u001b[38;5;45mNone\u001b[0m, \u001b[38;5;34m8\u001b[0m)                   │               \u001b[38;5;34m0\u001b[0m │\n",
              "├──────────────────────────────────────┼─────────────────────────────┼─────────────────┤\n",
              "│ dense2 (\u001b[38;5;33mDense\u001b[0m)                       │ (\u001b[38;5;45mNone\u001b[0m, \u001b[38;5;34m2\u001b[0m)                   │              \u001b[38;5;34m18\u001b[0m │\n",
              "└──────────────────────────────────────┴─────────────────────────────┴─────────────────┘\n"
            ],
            "text/html": [
              "<pre style=\"white-space:pre;overflow-x:auto;line-height:normal;font-family:Menlo,'DejaVu Sans Mono',consolas,'Courier New',monospace\">┏━━━━━━━━━━━━━━━━━━━━━━━━━━━━━━━━━━━━━━┳━━━━━━━━━━━━━━━━━━━━━━━━━━━━━┳━━━━━━━━━━━━━━━━━┓\n",
              "┃<span style=\"font-weight: bold\"> Layer (type)                         </span>┃<span style=\"font-weight: bold\"> Output Shape                </span>┃<span style=\"font-weight: bold\">         Param # </span>┃\n",
              "┡━━━━━━━━━━━━━━━━━━━━━━━━━━━━━━━━━━━━━━╇━━━━━━━━━━━━━━━━━━━━━━━━━━━━━╇━━━━━━━━━━━━━━━━━┩\n",
              "│ lstm1 (<span style=\"color: #0087ff; text-decoration-color: #0087ff\">LSTM</span>)                         │ (<span style=\"color: #00d7ff; text-decoration-color: #00d7ff\">None</span>, <span style=\"color: #00af00; text-decoration-color: #00af00\">50</span>, <span style=\"color: #00af00; text-decoration-color: #00af00\">8</span>)               │             <span style=\"color: #00af00; text-decoration-color: #00af00\">800</span> │\n",
              "├──────────────────────────────────────┼─────────────────────────────┼─────────────────┤\n",
              "│ drop2 (<span style=\"color: #0087ff; text-decoration-color: #0087ff\">Dropout</span>)                      │ (<span style=\"color: #00d7ff; text-decoration-color: #00d7ff\">None</span>, <span style=\"color: #00af00; text-decoration-color: #00af00\">50</span>, <span style=\"color: #00af00; text-decoration-color: #00af00\">8</span>)               │               <span style=\"color: #00af00; text-decoration-color: #00af00\">0</span> │\n",
              "├──────────────────────────────────────┼─────────────────────────────┼─────────────────┤\n",
              "│ lstm2 (<span style=\"color: #0087ff; text-decoration-color: #0087ff\">LSTM</span>)                         │ (<span style=\"color: #00d7ff; text-decoration-color: #00d7ff\">None</span>, <span style=\"color: #00af00; text-decoration-color: #00af00\">8</span>)                   │             <span style=\"color: #00af00; text-decoration-color: #00af00\">544</span> │\n",
              "├──────────────────────────────────────┼─────────────────────────────┼─────────────────┤\n",
              "│ drop3 (<span style=\"color: #0087ff; text-decoration-color: #0087ff\">Dropout</span>)                      │ (<span style=\"color: #00d7ff; text-decoration-color: #00d7ff\">None</span>, <span style=\"color: #00af00; text-decoration-color: #00af00\">8</span>)                   │               <span style=\"color: #00af00; text-decoration-color: #00af00\">0</span> │\n",
              "├──────────────────────────────────────┼─────────────────────────────┼─────────────────┤\n",
              "│ dense2 (<span style=\"color: #0087ff; text-decoration-color: #0087ff\">Dense</span>)                       │ (<span style=\"color: #00d7ff; text-decoration-color: #00d7ff\">None</span>, <span style=\"color: #00af00; text-decoration-color: #00af00\">2</span>)                   │              <span style=\"color: #00af00; text-decoration-color: #00af00\">18</span> │\n",
              "└──────────────────────────────────────┴─────────────────────────────┴─────────────────┘\n",
              "</pre>\n"
            ]
          },
          "metadata": {}
        },
        {
          "output_type": "display_data",
          "data": {
            "text/plain": [
              "\u001b[1m Total params: \u001b[0m\u001b[38;5;34m1,362\u001b[0m (5.32 KB)\n"
            ],
            "text/html": [
              "<pre style=\"white-space:pre;overflow-x:auto;line-height:normal;font-family:Menlo,'DejaVu Sans Mono',consolas,'Courier New',monospace\"><span style=\"font-weight: bold\"> Total params: </span><span style=\"color: #00af00; text-decoration-color: #00af00\">1,362</span> (5.32 KB)\n",
              "</pre>\n"
            ]
          },
          "metadata": {}
        },
        {
          "output_type": "display_data",
          "data": {
            "text/plain": [
              "\u001b[1m Trainable params: \u001b[0m\u001b[38;5;34m1,362\u001b[0m (5.32 KB)\n"
            ],
            "text/html": [
              "<pre style=\"white-space:pre;overflow-x:auto;line-height:normal;font-family:Menlo,'DejaVu Sans Mono',consolas,'Courier New',monospace\"><span style=\"font-weight: bold\"> Trainable params: </span><span style=\"color: #00af00; text-decoration-color: #00af00\">1,362</span> (5.32 KB)\n",
              "</pre>\n"
            ]
          },
          "metadata": {}
        },
        {
          "output_type": "display_data",
          "data": {
            "text/plain": [
              "\u001b[1m Non-trainable params: \u001b[0m\u001b[38;5;34m0\u001b[0m (0.00 B)\n"
            ],
            "text/html": [
              "<pre style=\"white-space:pre;overflow-x:auto;line-height:normal;font-family:Menlo,'DejaVu Sans Mono',consolas,'Courier New',monospace\"><span style=\"font-weight: bold\"> Non-trainable params: </span><span style=\"color: #00af00; text-decoration-color: #00af00\">0</span> (0.00 B)\n",
              "</pre>\n"
            ]
          },
          "metadata": {}
        },
        {
          "output_type": "stream",
          "name": "stdout",
          "text": [
            "\n",
            "### training with (2, 3, 4, 5, 6, 7, 8, 9, 20, 21, 22, 23, 24, 25, 26, 27, 28, 29, 30, 31), 12925 inputs, 4309 validation\n",
            "Epoch 1/20\n",
            "\u001b[1m404/404\u001b[0m \u001b[32m━━━━━━━━━━━━━━━━━━━━\u001b[0m\u001b[37m\u001b[0m \u001b[1m22s\u001b[0m 45ms/step - accuracy: 0.6423 - loss: 0.6252 - val_accuracy: 0.8582 - val_loss: 0.3566\n",
            "Epoch 2/20\n",
            "\u001b[1m404/404\u001b[0m \u001b[32m━━━━━━━━━━━━━━━━━━━━\u001b[0m\u001b[37m\u001b[0m \u001b[1m18s\u001b[0m 38ms/step - accuracy: 0.8668 - loss: 0.3315 - val_accuracy: 0.9139 - val_loss: 0.2295\n",
            "Epoch 3/20\n",
            "\u001b[1m404/404\u001b[0m \u001b[32m━━━━━━━━━━━━━━━━━━━━\u001b[0m\u001b[37m\u001b[0m \u001b[1m22s\u001b[0m 43ms/step - accuracy: 0.9153 - loss: 0.2298 - val_accuracy: 0.9378 - val_loss: 0.1743\n",
            "Epoch 4/20\n",
            "\u001b[1m404/404\u001b[0m \u001b[32m━━━━━━━━━━━━━━━━━━━━\u001b[0m\u001b[37m\u001b[0m \u001b[1m19s\u001b[0m 40ms/step - accuracy: 0.9383 - loss: 0.1812 - val_accuracy: 0.9515 - val_loss: 0.1464\n",
            "Epoch 5/20\n",
            "\u001b[1m404/404\u001b[0m \u001b[32m━━━━━━━━━━━━━━━━━━━━\u001b[0m\u001b[37m\u001b[0m \u001b[1m22s\u001b[0m 43ms/step - accuracy: 0.9490 - loss: 0.1520 - val_accuracy: 0.9615 - val_loss: 0.1221\n",
            "Epoch 6/20\n",
            "\u001b[1m404/404\u001b[0m \u001b[32m━━━━━━━━━━━━━━━━━━━━\u001b[0m\u001b[37m\u001b[0m \u001b[1m19s\u001b[0m 39ms/step - accuracy: 0.9574 - loss: 0.1323 - val_accuracy: 0.9624 - val_loss: 0.1115\n",
            "Epoch 7/20\n",
            "\u001b[1m404/404\u001b[0m \u001b[32m━━━━━━━━━━━━━━━━━━━━\u001b[0m\u001b[37m\u001b[0m \u001b[1m22s\u001b[0m 43ms/step - accuracy: 0.9630 - loss: 0.1141 - val_accuracy: 0.9605 - val_loss: 0.1182\n",
            "Epoch 8/20\n",
            "\u001b[1m404/404\u001b[0m \u001b[32m━━━━━━━━━━━━━━━━━━━━\u001b[0m\u001b[37m\u001b[0m \u001b[1m19s\u001b[0m 38ms/step - accuracy: 0.9678 - loss: 0.1017 - val_accuracy: 0.9701 - val_loss: 0.0941\n",
            "Epoch 9/20\n",
            "\u001b[1m404/404\u001b[0m \u001b[32m━━━━━━━━━━━━━━━━━━━━\u001b[0m\u001b[37m\u001b[0m \u001b[1m16s\u001b[0m 39ms/step - accuracy: 0.9701 - loss: 0.0929 - val_accuracy: 0.9636 - val_loss: 0.1088\n",
            "Epoch 10/20\n",
            "\u001b[1m404/404\u001b[0m \u001b[32m━━━━━━━━━━━━━━━━━━━━\u001b[0m\u001b[37m\u001b[0m \u001b[1m21s\u001b[0m 40ms/step - accuracy: 0.9738 - loss: 0.0859 - val_accuracy: 0.9715 - val_loss: 0.1008\n",
            "Epoch 11/20\n",
            "\u001b[1m404/404\u001b[0m \u001b[32m━━━━━━━━━━━━━━━━━━━━\u001b[0m\u001b[37m\u001b[0m \u001b[1m23s\u001b[0m 45ms/step - accuracy: 0.9754 - loss: 0.0795 - val_accuracy: 0.9722 - val_loss: 0.0978\n",
            "Epoch 12/20\n",
            "\u001b[1m404/404\u001b[0m \u001b[32m━━━━━━━━━━━━━━━━━━━━\u001b[0m\u001b[37m\u001b[0m \u001b[1m19s\u001b[0m 41ms/step - accuracy: 0.9759 - loss: 0.0769 - val_accuracy: 0.9747 - val_loss: 0.0849\n",
            "Epoch 13/20\n",
            "\u001b[1m404/404\u001b[0m \u001b[32m━━━━━━━━━━━━━━━━━━━━\u001b[0m\u001b[37m\u001b[0m \u001b[1m20s\u001b[0m 39ms/step - accuracy: 0.9806 - loss: 0.0682 - val_accuracy: 0.9766 - val_loss: 0.0736\n",
            "Epoch 14/20\n",
            "\u001b[1m404/404\u001b[0m \u001b[32m━━━━━━━━━━━━━━━━━━━━\u001b[0m\u001b[37m\u001b[0m \u001b[1m22s\u001b[0m 43ms/step - accuracy: 0.9791 - loss: 0.0668 - val_accuracy: 0.9738 - val_loss: 0.0867\n",
            "Epoch 15/20\n",
            "\u001b[1m404/404\u001b[0m \u001b[32m━━━━━━━━━━━━━━━━━━━━\u001b[0m\u001b[37m\u001b[0m \u001b[1m16s\u001b[0m 39ms/step - accuracy: 0.9806 - loss: 0.0618 - val_accuracy: 0.9777 - val_loss: 0.0734\n",
            "Epoch 16/20\n",
            "\u001b[1m404/404\u001b[0m \u001b[32m━━━━━━━━━━━━━━━━━━━━\u001b[0m\u001b[37m\u001b[0m \u001b[1m20s\u001b[0m 38ms/step - accuracy: 0.9839 - loss: 0.0582 - val_accuracy: 0.9747 - val_loss: 0.0775\n",
            "Epoch 17/20\n",
            "\u001b[1m404/404\u001b[0m \u001b[32m━━━━━━━━━━━━━━━━━━━━\u001b[0m\u001b[37m\u001b[0m \u001b[1m21s\u001b[0m 39ms/step - accuracy: 0.9835 - loss: 0.0553 - val_accuracy: 0.9761 - val_loss: 0.0823\n",
            "Epoch 18/20\n",
            "\u001b[1m404/404\u001b[0m \u001b[32m━━━━━━━━━━━━━━━━━━━━\u001b[0m\u001b[37m\u001b[0m \u001b[1m20s\u001b[0m 38ms/step - accuracy: 0.9821 - loss: 0.0548 - val_accuracy: 0.9756 - val_loss: 0.0766\n",
            "Epoch 19/20\n",
            "\u001b[1m404/404\u001b[0m \u001b[32m━━━━━━━━━━━━━━━━━━━━\u001b[0m\u001b[37m\u001b[0m \u001b[1m21s\u001b[0m 39ms/step - accuracy: 0.9827 - loss: 0.0532 - val_accuracy: 0.9742 - val_loss: 0.0867\n",
            "Epoch 20/20\n",
            "\u001b[1m404/404\u001b[0m \u001b[32m━━━━━━━━━━━━━━━━━━━━\u001b[0m\u001b[37m\u001b[0m \u001b[1m21s\u001b[0m 40ms/step - accuracy: 0.9848 - loss: 0.0474 - val_accuracy: 0.9756 - val_loss: 0.0770\n",
            "\n",
            "### testing with (0, 1, 15, 16, 17), 2936 inputs\n",
            "\u001b[1m92/92\u001b[0m \u001b[32m━━━━━━━━━━━━━━━━━━━━\u001b[0m\u001b[37m\u001b[0m \u001b[1m1s\u001b[0m 9ms/step - accuracy: 0.9286 - loss: 0.2470\n"
          ]
        }
      ]
    },
    {
      "cell_type": "code",
      "source": [
        "# model test only\n",
        "# if False and __name__ == '__main__':\n",
        "print(f'### testing with {len(x_data_test)} inputs')\n",
        "eval_metrics = model.evaluate(x_data_test, y_data_test)\n"
      ],
      "metadata": {
        "colab": {
          "base_uri": "https://localhost:8080/"
        },
        "id": "jySsvOwd9Jfo",
        "outputId": "378a1688-743f-47bf-98d7-262daef9a63a"
      },
      "execution_count": 14,
      "outputs": [
        {
          "output_type": "stream",
          "name": "stdout",
          "text": [
            "### testing with 2936 inputs\n",
            "\u001b[1m92/92\u001b[0m \u001b[32m━━━━━━━━━━━━━━━━━━━━\u001b[0m\u001b[37m\u001b[0m \u001b[1m1s\u001b[0m 9ms/step - accuracy: 0.9286 - loss: 0.2470\n"
          ]
        }
      ]
    },
    {
      "cell_type": "code",
      "source": [
        "# # create confusion matrix\n",
        "# if False and __name__ == '__main__':\n",
        "import pandas as pd\n",
        "import seaborn\n",
        "y_pred = np.argmax(model.predict(x_data_test), axis=-1)\n",
        "con_mat = tf.math.confusion_matrix(labels = y_data_test, predictions = y_pred).numpy()\n",
        "con_mat_norm = np.around(con_mat.astype('float') / con_mat.sum(axis = 1)[:, np.newaxis], decimals = 2)\n",
        "classes = ['N', 'AD']\n",
        "con_mat_df = pd.DataFrame(con_mat_norm, index = classes, columns = classes)\n",
        "figure = plt.figure(figsize = (5, 5))\n",
        "seaborn.heatmap(con_mat_df, annot = True, cmap = plt.cm.Blues)\n",
        "plt.tight_layout()\n",
        "plt.ylabel('True label')\n",
        "plt.xlabel('Predicted label')\n",
        "plt.tight_layout()\n",
        "plt.savefig(working_dir + '/confusion_matrix_withoutRPCA.eps', format='eps')\n",
        "plt.show()"
      ],
      "metadata": {
        "colab": {
          "base_uri": "https://localhost:8080/",
          "height": 524
        },
        "id": "olpobd4c9LH3",
        "outputId": "9de678e2-4a23-4d41-9f0f-43cdf4a219c8"
      },
      "execution_count": 15,
      "outputs": [
        {
          "output_type": "stream",
          "name": "stdout",
          "text": [
            "\u001b[1m92/92\u001b[0m \u001b[32m━━━━━━━━━━━━━━━━━━━━\u001b[0m\u001b[37m\u001b[0m \u001b[1m1s\u001b[0m 12ms/step\n"
          ]
        },
        {
          "output_type": "display_data",
          "data": {
            "text/plain": [
              "<Figure size 500x500 with 2 Axes>"
            ],
            "image/png": "[encoded data removed]"
          },
          "metadata": {}
        }
      ]
    }
  ],
  "metadata": {
    "colab": {
      "provenance": [],
      "gpuType": "T4",
      "authorship_tag": "ABX9TyMnkbvwy207UoWPkd1qqJuz",
      "include_colab_link": true
    },
    "kernelspec": {
      "display_name": "Python 3",
      "name": "python3"
    },
    "language_info": {
      "name": "python"
    }
  },
  "nbformat": 4,
  "nbformat_minor": 0
}